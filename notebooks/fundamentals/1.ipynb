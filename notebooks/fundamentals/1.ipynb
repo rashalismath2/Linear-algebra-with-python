{
 "cells": [
  {
   "cell_type": "code",
   "execution_count": 13,
   "id": "178e9316-712c-48bf-9d97-2c5c468a3bc5",
   "metadata": {},
   "outputs": [],
   "source": [
    "import numpy as np\n",
    "import matplotlib.pyplot as plt"
   ]
  },
  {
   "cell_type": "code",
   "execution_count": null,
   "id": "627e5d3d-156e-4a21-a5e3-1dcc75adda2a",
   "metadata": {},
   "outputs": [],
   "source": []
  },
  {
   "cell_type": "code",
   "execution_count": 3,
   "id": "d8d9bb5a-f434-420e-8d00-33c02b3d8caf",
   "metadata": {},
   "outputs": [
    {
     "name": "stdout",
     "output_type": "stream",
     "text": [
      "5\n"
     ]
    }
   ],
   "source": [
    "x=np.array(5)\n",
    "print(x)"
   ]
  },
  {
   "cell_type": "code",
   "execution_count": 4,
   "id": "dfa7103f-0c0c-46fe-b19f-d96a853334e6",
   "metadata": {},
   "outputs": [
    {
     "name": "stdout",
     "output_type": "stream",
     "text": [
      "10\n"
     ]
    }
   ],
   "source": [
    "y=x*2\n",
    "print(y)"
   ]
  },
  {
   "cell_type": "code",
   "execution_count": 17,
   "id": "1f40d24b-c17c-49aa-ba93-5f34e47dcd74",
   "metadata": {},
   "outputs": [
    {
     "name": "stdout",
     "output_type": "stream",
     "text": [
      "[1 2 3] [[1 2 3 4]\n",
      " [5 6 7 8]]\n"
     ]
    }
   ],
   "source": [
    "arr1=np.array([1,2,3])\n",
    "arr2=np.array([[1,2,3,4],[5,6,7,8]])\n",
    "print(arr1,arr2)"
   ]
  },
  {
   "cell_type": "markdown",
   "id": "192bfcf1-5373-4bb8-b134-a62cc065a349",
   "metadata": {},
   "source": [
    "<h3>array shape, dtype, dimension</h3>"
   ]
  },
  {
   "cell_type": "code",
   "execution_count": 12,
   "id": "33a03894-ca55-4684-9179-dedb0683a3e6",
   "metadata": {},
   "outputs": [
    {
     "name": "stdout",
     "output_type": "stream",
     "text": [
      "(4,) int64 1\n",
      "(2, 4) int64 2\n"
     ]
    }
   ],
   "source": [
    "print(arr1.shape,arr1.dtype,arr1.ndim)\n",
    "print(arr2.shape,arr2.dtype,arr2.ndim)"
   ]
  },
  {
   "cell_type": "markdown",
   "id": "a069d455-4890-4723-8aa1-3426c4b87828",
   "metadata": {},
   "source": [
    "<h3>vector dot product</h3>"
   ]
  },
  {
   "cell_type": "code",
   "execution_count": 19,
   "id": "8597c1fb-5e71-4db1-8b02-1a660c1f8c94",
   "metadata": {},
   "outputs": [
    {
     "name": "stdout",
     "output_type": "stream",
     "text": [
      "32\n"
     ]
    }
   ],
   "source": [
    "vec1=np.array([1,2,3])\n",
    "vec2=np.array([4,5,6])\n",
    "print(np.dot(vec1,vec2))"
   ]
  },
  {
   "cell_type": "markdown",
   "id": "c0d13bc4-cb3d-47e6-8635-2178d7415ea2",
   "metadata": {},
   "source": [
    "<h3>Vector normalization (L2)</h3>\n",
    "<p>Normalization gives the unitt vector. Helpful to find cosine similarities between vectors sine they are unit vecors, only the angle contribute to the similarity not how big it is</p>"
   ]
  },
  {
   "cell_type": "code",
   "execution_count": 20,
   "id": "c16534dd-8513-4fe8-837a-6d9b2d8a4c3d",
   "metadata": {},
   "outputs": [
    {
     "name": "stdout",
     "output_type": "stream",
     "text": [
      "[1 2 3] 3.7416573867739413 [0.26726124 0.53452248 0.80178373]\n"
     ]
    }
   ],
   "source": [
    "vec3=np.array([1,2,3])\n",
    "norm=np.linalg.norm(vec3)\n",
    "normalized_vec=vec3/norm\n",
    "print(vec3,norm,normalized_vec)"
   ]
  },
  {
   "cell_type": "markdown",
   "id": "e801ea51-02ea-4c1b-8fbe-1131955424b1",
   "metadata": {},
   "source": [
    "<h3>Cosine similarity</h3>\n",
    "<p>Cosine similarity gives the angle between vectors.the closer to 1, the more similar they are.</p>\n",
    "cos(theta)=vec dot products/vector size multiples"
   ]
  },
  {
   "cell_type": "code",
   "execution_count": 23,
   "id": "a42d11ef-df89-4627-9263-5af550778fbd",
   "metadata": {},
   "outputs": [
    {
     "name": "stdout",
     "output_type": "stream",
     "text": [
      "0.42640143271122083\n"
     ]
    }
   ],
   "source": [
    "vec4=np.array([1,2,3])\n",
    "vec5=np.array([4,5,6])\n",
    "dot_product=np.dot(vec4,vec5)\n",
    "norm4=np.linalg.norm(vec4)\n",
    "norm5=np.linalg.norm(vec5)\n",
    "cosine=dot_product/(cosine)\n",
    "print(cosine)"
   ]
  },
  {
   "cell_type": "code",
   "execution_count": null,
   "id": "32aa480e-bb92-4b73-ba9f-3d2fbb189e36",
   "metadata": {},
   "outputs": [],
   "source": []
  },
  {
   "cell_type": "markdown",
   "id": "707affe4-541d-4a31-996b-896940ce6d84",
   "metadata": {},
   "source": [
    "<h2>Matrices</h2>"
   ]
  },
  {
   "cell_type": "code",
   "execution_count": 24,
   "id": "0ce63be7-84f2-496e-a376-443f3b44ff77",
   "metadata": {},
   "outputs": [
    {
     "name": "stdout",
     "output_type": "stream",
     "text": [
      "(2, 2) int64\n"
     ]
    }
   ],
   "source": [
    "matr1=np.array([[1,2],[3,4]])\n",
    "print(matr1.shape,matr1.dtype)"
   ]
  },
  {
   "cell_type": "markdown",
   "id": "902ab18d-4355-445f-89ee-504550e397c4",
   "metadata": {},
   "source": [
    "<h3>Matrix multiplication & Dot product</h3>"
   ]
  },
  {
   "cell_type": "code",
   "execution_count": 27,
   "id": "529d5b89-5c95-4585-9da9-fb04ca3bfdf7",
   "metadata": {},
   "outputs": [
    {
     "name": "stdout",
     "output_type": "stream",
     "text": [
      "[[19 22]\n",
      " [43 50]]\n",
      "[[ 5 12]\n",
      " [21 32]]\n"
     ]
    }
   ],
   "source": [
    "mat2=np.array([[1,2],[3,4]])\n",
    "mat3=np.array([[5,6],[7,8]])\n",
    "mult=np.matmul(mat2,mat3)\n",
    "dot=mat2*mat3\n",
    "print(mult)\n",
    "print(dot)"
   ]
  },
  {
   "cell_type": "markdown",
   "id": "c25d4b73-7836-4934-8971-aa97764818a4",
   "metadata": {},
   "source": [
    "<h3>Identity matrix</h3>"
   ]
  },
  {
   "cell_type": "code",
   "execution_count": 28,
   "id": "3e6d6442-1435-4dd0-b6e7-cfe8dcb11fcb",
   "metadata": {},
   "outputs": [
    {
     "name": "stdout",
     "output_type": "stream",
     "text": [
      "[[1. 0. 0. 0.]\n",
      " [0. 1. 0. 0.]\n",
      " [0. 0. 1. 0.]\n",
      " [0. 0. 0. 1.]]\n"
     ]
    }
   ],
   "source": [
    "I=np.eye(4)\n",
    "print(I)"
   ]
  },
  {
   "cell_type": "markdown",
   "id": "ea90ffc4-8717-4d6f-b91d-be3a93b11247",
   "metadata": {},
   "source": [
    "<h3>Diagonal matrix</h3>"
   ]
  },
  {
   "cell_type": "code",
   "execution_count": 29,
   "id": "f0ad9d8d-73df-40dd-916e-f3c3d33cd67c",
   "metadata": {},
   "outputs": [
    {
     "name": "stdout",
     "output_type": "stream",
     "text": [
      "[[1 0 0 0]\n",
      " [0 2 0 0]\n",
      " [0 0 3 0]\n",
      " [0 0 0 4]]\n"
     ]
    }
   ],
   "source": [
    "D=np.diag([1,2,3,4])\n",
    "print(D)"
   ]
  },
  {
   "cell_type": "markdown",
   "id": "62372429-19e3-45fa-8add-fc113a30136c",
   "metadata": {},
   "source": [
    "<h3>Inverse matrices</h3>\n",
    "<p>Ax=b -> x=A(inv)b</p>\n",
    "<p><b>A must be square and its determintent should not be 0 to have an inverse</b></p>"
   ]
  },
  {
   "cell_type": "code",
   "execution_count": 30,
   "id": "c0be48d7-5b80-4586-bb47-d3050450e1f3",
   "metadata": {},
   "outputs": [
    {
     "name": "stdout",
     "output_type": "stream",
     "text": [
      "[ 5 11]\n"
     ]
    }
   ],
   "source": [
    "A=np.array([[1,2],[3,4]])\n",
    "A_inv=np.linalg.inv(A)\n",
    "b=np.array([5,11])\n",
    "x=np.dot(A_inv,b)\n",
    "print(b)"
   ]
  },
  {
   "cell_type": "code",
   "execution_count": null,
   "id": "f62ac63a-ee15-4f6f-88e5-4f6e8ab9fe7e",
   "metadata": {},
   "outputs": [],
   "source": []
  },
  {
   "cell_type": "code",
   "execution_count": null,
   "id": "3163e7a8-6dc4-4e59-8b4c-18b5896efafa",
   "metadata": {},
   "outputs": [],
   "source": []
  },
  {
   "cell_type": "code",
   "execution_count": null,
   "id": "d7a15956-5fe6-411c-bb2c-a7600fc89ece",
   "metadata": {},
   "outputs": [],
   "source": []
  },
  {
   "cell_type": "code",
   "execution_count": null,
   "id": "195edada-5230-40b5-bf74-0990ad091ff6",
   "metadata": {},
   "outputs": [],
   "source": []
  }
 ],
 "metadata": {
  "kernelspec": {
   "display_name": "Python 3 (ipykernel)",
   "language": "python",
   "name": "python3"
  },
  "language_info": {
   "codemirror_mode": {
    "name": "ipython",
    "version": 3
   },
   "file_extension": ".py",
   "mimetype": "text/x-python",
   "name": "python",
   "nbconvert_exporter": "python",
   "pygments_lexer": "ipython3",
   "version": "3.13.5"
  }
 },
 "nbformat": 4,
 "nbformat_minor": 5
}
