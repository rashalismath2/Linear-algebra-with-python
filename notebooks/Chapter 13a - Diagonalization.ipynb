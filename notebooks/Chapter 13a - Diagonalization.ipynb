{
 "cells": [
  {
   "cell_type": "code",
   "execution_count": 17,
   "metadata": {},
   "outputs": [],
   "source": [
    "import sympy as sy\n",
    "sy.init_printing()  \n",
    "import matplotlib.pyplot as plt\n",
    "plt.style.use('ggplot')\n",
    "import numpy as np"
   ]
  },
  {
   "cell_type": "markdown",
   "metadata": {},
   "source": [
    "# <font face=\"gotham\" color=\"purple\"> Similarity </font>"
   ]
  },
  {
   "cell_type": "markdown",
   "metadata": {},
   "source": [
    "If $A = PBP^{-1}$, we say $A$ is _similar_ to $B$, decomposing $A$ into $PBP^{-1}$ is also called a _similarity transformation_, $P$ is an invertable matrix.\n",
    "\n",
    "If $n\\times n$ matrices $A$ and $B$ are similar, they have the _same eigenvalues_.\n",
    "\n",
    "Here are some reasons that we need similarity transformation:\n",
    "1. Invariant Properties: Similar matrices share many important properties, such as eigenvalues, determinant, trace, and rank. This invariance makes similarity transformations useful for simplifying problems without changing their fundamental characteristics.\n",
    "\n",
    "2. Changing Basis: Similarity transformations can be interpreted as changing the basis in which the linear transformation represented by the matrix is expressed. This change of basis can make the problem easier to understand or solve.\n",
    "\n",
    "3. Applications: Similarity transformations are widely used in various applications, including diagonalization, canonical forms, and simplifying differential equations.\n",
    "\n",
    "The _diagnoalization_, which we will explain below,  is a special case of similarity transformation."
   ]
  },
  {
   "cell_type": "markdown",
   "metadata": {},
   "source": [
    "# <font face=\"gotham\" color=\"purple\"> Diagonalizable Matrix and Special Decompositon</font>"
   ]
  },
  {
   "cell_type": "markdown",
   "metadata": {},
   "source": [
    "Let $A$ be an $n\\times n$ matrix. If there exists an $n\\times n$ invertible matrix $P$ and a diagonal matrix $D$, such that\n",
    "\n",
    "$$\n",
    "A=PDP^{-1}\n",
    "$$\n",
    "\n",
    "then matrix $A$ is called a _diagonalizable matrix_."
   ]
  },
  {
   "cell_type": "markdown",
   "metadata": {},
   "source": [
    "And further, the columns of $P$ are linearly independent eigenvectors of $A$, and its corresponding eigenvalues are on the principal diagonal of $D$. In other words, $A$ is diagonalizable if and only if the dimension of eigenspace basis is $n$."
   ]
  },
  {
   "cell_type": "markdown",
   "metadata": {},
   "source": [
    "Let's show why this equation holds. Define $P$ and $D$"
   ]
  },
  {
   "cell_type": "markdown",
   "metadata": {},
   "source": [
    "\n",
    "\n",
    "$$\n",
    "P = \\left[\\begin{array}{llll}\n",
    "{v}_{1} & {v}_{2} & \\cdots & {v}_{n}\n",
    "\\end{array}\\right]\\\\\n",
    "$$\n",
    "\n",
    "$$\n",
    "D = \\left[\\begin{array}{cccc}\n",
    "\\lambda_{1} & 0 & \\cdots & 0 \\\\\n",
    "0 & \\lambda_{2} & \\cdots & 0 \\\\\n",
    "\\vdots & \\vdots & & \\vdots \\\\\n",
    "0 & 0 & \\cdots & \\lambda_{n}\n",
    "\\end{array}\\right]\n",
    "$$\n",
    "\n",
    "where $v_i, i \\in (1, 2, ...n)$ is an eigenvector of $A$, $\\lambda_i, i \\in (1, 2, ...n)$ is an eigenvalue of $A$."
   ]
  },
  {
   "cell_type": "markdown",
   "metadata": {},
   "source": [
    "$$\n",
    "AP = A\\left[\\begin{array}{llll}\n",
    "{v}_{1} & {v}_{2} & \\cdots & {v}_{n}\n",
    "\\end{array}\\right]=\\left[\\begin{array}{llll}\n",
    "A {v}_{1} & A {v}_{2} & \\cdots & A {v}_{n}\n",
    "\\end{array}\\right]\n",
    "$$"
   ]
  },
  {
   "cell_type": "markdown",
   "metadata": {},
   "source": [
    "$$P D=\\left[\\begin{array}{llll}\n",
    "{v}_{1} & {v}_{2} & \\cdots & {v}_{n}\n",
    "\\end{array}\\right]\\left[\\begin{array}{cccc}\n",
    "\\lambda_{1} & 0 & \\cdots & 0 \\\\\n",
    "0 & \\lambda_{2} & \\cdots & 0 \\\\\n",
    "\\vdots & \\vdots & & \\vdots \\\\\n",
    "0 & 0 & \\cdots & \\lambda_{n}\n",
    "\\end{array}\\right]=\\left[\\begin{array}{lllll}\n",
    "\\lambda_{1} {v}_{1} & \\lambda_{2} {v}_{2} & \\cdots & \\lambda_{n} {v}_{n}\n",
    "\\end{array}\\right]$$"
   ]
  },
  {
   "cell_type": "markdown",
   "metadata": {},
   "source": [
    "We know that $A{v}_i = \\lambda_i{v}_i$, i.e.\n",
    "\n",
    "$$\n",
    "AP = PD\n",
    "$$\n",
    "\n",
    "Since $P$ has all independent eigenvectors, then\n",
    "\n",
    "$$\n",
    "A = PDP^{-1}\n",
    "$$"
   ]
  },
  {
   "cell_type": "markdown",
   "metadata": {},
   "source": [
    "Strictly speaking, if $A$ is symmetric, i.e. $A=A^T$, the procedure above called _Spectral decomposition_, the similar matrix $D$ holds all the eigenvalues on its diagonal. And $P$ is orthogonal matrix, which means any of of its two columns are perpendicular. Therefore it could be rewritten as \n",
    "$$\n",
    "A = PDP^{T}\n",
    "$$\n",
    "\n",
    "We can show why all eigenvectors are orthogonal to each other:\n",
    "Set up two equations\n",
    "$$\n",
    "A \\mathbf{v}_1=\\lambda_1 \\mathbf{v}_1\\\\\n",
    "A \\mathbf{v}_2=\\lambda_2 \\mathbf{v}_2\n",
    "$$\n",
    "Take the transpose of the first equation and multiply by $\\mathbf{v}_2$ :\n",
    "$$\n",
    "\\mathbf{v}_1^T A^T \\mathbf{v}_2=\\lambda_1 \\mathbf{v}_1^T \\mathbf{v}_2\n",
    "$$\n",
    "Since $A$ is symmetric $\\left(A=A^T\\right)$ :\n",
    "$$\n",
    "\\mathbf{v}_1^T A \\mathbf{v}_2=\\lambda_1 \\mathbf{v}_1^T \\mathbf{v}_2\n",
    "$$\n",
    "\n",
    "Substitute $A \\mathbf{v}_2=\\lambda_2 \\mathbf{v}_2$ into the equation:\n",
    "$$\n",
    "\\mathbf{v}_1^T\\left(\\lambda_2 \\mathbf{v}_2\\right)=\\lambda_1 \\mathbf{v}_1^T \\mathbf{v}_2\n",
    "$$\n",
    "Simplify to get:\n",
    "$$\n",
    "\\lambda_2 \\mathbf{v}_1^T \\mathbf{v}_2=\\lambda_1 \\mathbf{v}_1^T \\mathbf{v}_2\n",
    "$$\n",
    "\n",
    "Since $\\lambda_1 \\neq \\lambda_2$ :\n",
    "$$\n",
    "\\left(\\lambda_2-\\lambda_1\\right) \\mathbf{v}_1^T \\mathbf{v}_2=0\n",
    "$$\n",
    "This implies that $\\mathbf{v}_1^T \\mathbf{v}_2=0$, meaning $\\mathbf{v}_1$ and $\\mathbf{v}_2$ are orthogonal."
   ]
  },
  {
   "cell_type": "markdown",
   "metadata": {},
   "source": [
    "\n",
    "Correlation/covariance matrix is a good example, which is symmetric and square, its all eigenvalues are real."
   ]
  },
  {
   "cell_type": "markdown",
   "metadata": {},
   "source": [
    "# <font face=\"gotham\" color=\"purple\"> Spectral Decomposition Visualization</font>"
   ]
  },
  {
   "cell_type": "markdown",
   "metadata": {},
   "source": [
    "Let's visualize spectral decomposition, $P$ and $P^T$ are for rotation because they orthogonal, and $D$ are for scaling because it's diagonal."
   ]
  },
  {
   "cell_type": "code",
   "execution_count": 18,
   "metadata": {},
   "outputs": [
    {
     "data": {
      "image/png": "[encoded data removed]",
      "text/plain": [
       "<Figure size 1500x400 with 4 Axes>"
      ]
     },
     "metadata": {},
     "output_type": "display_data"
    }
   ],
   "source": [
    "\n",
    "# Define matrix A\n",
    "A = np.array([[1, 3], [3, -5]])\n",
    "\n",
    "# Calculate eigenvalues and eigenvectors\n",
    "eigenvalues, eigenvectors = np.linalg.eig(A)\n",
    "\n",
    "# Plot eigenvectors\n",
    "fig, ax = plt.subplots(figsize=(15, 4), nrows=1, ncols=4)\n",
    "for i in range(2):\n",
    "    ax[0].quiver(0, 0, eigenvectors[:,i][0], eigenvectors[:,i][1], angles='xy', \n",
    "                 scale_units='xy', scale=1, color=['r','b'][i])\n",
    "ax[0].set_xlim(-2, 2)\n",
    "ax[0].set_ylim(-2, 2)\n",
    "ax[0].set_title('Eigenvectors of $A$')\n",
    "\n",
    "for i in range(4):\n",
    "    ax[i].set_xlabel('x')\n",
    "    ax[i].set_ylabel('y')\n",
    "    ax[i].set_aspect('equal')\n",
    "\n",
    "ax[1].quiver(0, 0, 1, 0, angles='xy', \n",
    "             scale_units='xy', scale=1, color=['r'])\n",
    "ax[1].quiver(0, 0, 0, 1, angles='xy', \n",
    "             scale_units='xy', scale=1, color=['b'])\n",
    "ax[1].set_xlim(-2, 2)\n",
    "ax[1].set_ylim(-2, 2)\n",
    "ax[1].set_title('$P^T$')\n",
    "\n",
    "\n",
    "ax[2].quiver(0, 0, eigenvalues[0], 0, angles='xy', \n",
    "             scale_units='xy', scale=1, color=['r'])\n",
    "ax[2].quiver(0, 0, 0, eigenvalues[1], angles='xy', \n",
    "             scale_units='xy', scale=1, color=['b'])\n",
    "ax[2].set_xlim(-7, 7)\n",
    "ax[2].set_ylim(-7, 7)\n",
    "ax[2].set_title('$DP^T$')\n",
    "\n",
    "temp = np.array([[eigenvalues[0], 0],\n",
    "                 [0, eigenvalues[1]]])\n",
    "temp1 = temp@eigenvectors\n",
    "\n",
    "ax[3].quiver(0, 0, temp1[:,0][0], temp1[:,0][1], angles='xy', \n",
    "             scale_units='xy', scale=1, color=['r'])\n",
    "ax[3].quiver(0, 0, temp1[:,1][0], temp1[:,1][1], angles='xy', \n",
    "             scale_units='xy', scale=1, color=['b'])\n",
    "ax[3].set_xlim(-7, 7)\n",
    "ax[3].set_ylim(-7, 7)\n",
    "ax[3].set_title('$PDP^T$')\n",
    "\n",
    "plt.show()"
   ]
  },
  {
   "cell_type": "markdown",
   "metadata": {},
   "source": [
    "# <font face=\"gotham\" color=\"purple\"> Diagonalizing a Matrix</font>"
   ]
  },
  {
   "cell_type": "markdown",
   "metadata": {},
   "source": [
    "Consider a matrix\n",
    "\n",
    "$$A=\\left[\\begin{array}{rrr}\n",
    "1 & 3 & 3 \\\\\n",
    "-3 & -5 & -3 \\\\\n",
    "3 & 3 & 1\n",
    "\\end{array}\\right]$$\n",
    "\n",
    "We seek to diagonalize the matrix $A$."
   ]
  },
  {
   "cell_type": "markdown",
   "metadata": {},
   "source": [
    "Following these steps:\n",
    "\n",
    "1. Compute the eigenvalues of $A$\n",
    "2. Compute the eigenvectors of $A$\n",
    "3. Construct $P$.\n",
    "4. Construct $D$ from the corresponding columns of $P$."
   ]
  },
  {
   "cell_type": "code",
   "execution_count": 21,
   "metadata": {},
   "outputs": [
    {
     "data": {
      "text/latex": [
       "$\\displaystyle \\left[ \\left( -2, \\  2, \\  \\left[ \\left[\\begin{matrix}-1\\\\1\\\\0\\end{matrix}\\right], \\  \\left[\\begin{matrix}-1\\\\0\\\\1\\end{matrix}\\right]\\right]\\right), \\  \\left( 1, \\  1, \\  \\left[ \\left[\\begin{matrix}1\\\\-1\\\\1\\end{matrix}\\right]\\right]\\right)\\right]$"
      ],
      "text/plain": [
       "⎡⎛       ⎡⎡-1⎤  ⎡-1⎤⎤⎞  ⎛      ⎡⎡1 ⎤⎤⎞⎤\n",
       "⎢⎜       ⎢⎢  ⎥  ⎢  ⎥⎥⎟  ⎜      ⎢⎢  ⎥⎥⎟⎥\n",
       "⎢⎜-2, 2, ⎢⎢1 ⎥, ⎢0 ⎥⎥⎟, ⎜1, 1, ⎢⎢-1⎥⎥⎟⎥\n",
       "⎢⎜       ⎢⎢  ⎥  ⎢  ⎥⎥⎟  ⎜      ⎢⎢  ⎥⎥⎟⎥\n",
       "⎣⎝       ⎣⎣0 ⎦  ⎣1 ⎦⎦⎠  ⎝      ⎣⎣1 ⎦⎦⎠⎦"
      ]
     },
     "execution_count": 21,
     "metadata": {},
     "output_type": "execute_result"
    }
   ],
   "source": [
    "A = sy.Matrix([[1,3,3], [-3, -5, -3], [3,3,1]])\n",
    "eig = A.eigenvects()\n",
    "eig"
   ]
  },
  {
   "cell_type": "markdown",
   "metadata": {},
   "source": [
    "Reminder the return value takes the form ```[(eigenval, multiplicity, eigenspace), ...]```."
   ]
  },
  {
   "cell_type": "markdown",
   "metadata": {},
   "source": [
    "Construct $P$"
   ]
  },
  {
   "cell_type": "code",
   "execution_count": 22,
   "metadata": {},
   "outputs": [
    {
     "data": {
      "text/latex": [
       "$\\displaystyle \\left[\\begin{matrix}-1 & -1 & 1\\\\1 & 0 & -1\\\\0 & 1 & 1\\end{matrix}\\right]$"
      ],
      "text/plain": [
       "⎡-1  -1  1 ⎤\n",
       "⎢          ⎥\n",
       "⎢1   0   -1⎥\n",
       "⎢          ⎥\n",
       "⎣0   1   1 ⎦"
      ]
     },
     "execution_count": 22,
     "metadata": {},
     "output_type": "execute_result"
    }
   ],
   "source": [
    "P = sy.zeros(3, 3)\n",
    "P[:, 0] = eig[0][2][0]\n",
    "P[:, 1] = eig[0][2][1]\n",
    "P[:, 2] = eig[1][2][0]\n",
    "P"
   ]
  },
  {
   "cell_type": "markdown",
   "metadata": {},
   "source": [
    "Construct $D$"
   ]
  },
  {
   "cell_type": "code",
   "execution_count": 23,
   "metadata": {},
   "outputs": [
    {
     "data": {
      "text/latex": [
       "$\\displaystyle \\left[\\begin{matrix}-2 & 0 & 0\\\\0 & -2 & 0\\\\0 & 0 & 1\\end{matrix}\\right]$"
      ],
      "text/plain": [
       "⎡-2  0   0⎤\n",
       "⎢         ⎥\n",
       "⎢0   -2  0⎥\n",
       "⎢         ⎥\n",
       "⎣0   0   1⎦"
      ]
     },
     "execution_count": 23,
     "metadata": {},
     "output_type": "execute_result"
    }
   ],
   "source": [
    "D = sy.diag(eig[0][0], eig[0][0], eig[1][0])\n",
    "D"
   ]
  },
  {
   "cell_type": "markdown",
   "metadata": {},
   "source": [
    "We can verify if $PDP^{-1}=A$ holds:"
   ]
  },
  {
   "cell_type": "code",
   "execution_count": 24,
   "metadata": {},
   "outputs": [
    {
     "data": {
      "text/plain": [
       "True"
      ]
     },
     "execution_count": 24,
     "metadata": {},
     "output_type": "execute_result"
    }
   ],
   "source": [
    "P * D * P.inv() == A "
   ]
  },
  {
   "cell_type": "markdown",
   "metadata": {},
   "source": [
    "Of course we don't need to go through this process seperately. There is ```diagonalize``` method in SymPy."
   ]
  },
  {
   "cell_type": "code",
   "execution_count": 25,
   "metadata": {},
   "outputs": [],
   "source": [
    "P, D = A.diagonalize()"
   ]
  },
  {
   "cell_type": "code",
   "execution_count": null,
   "metadata": {},
   "outputs": [
    {
     "data": {
      "text/latex": [
       "$\\displaystyle \\left[\\begin{matrix}-1 & -1 & 1\\\\1 & 0 & -1\\\\0 & 1 & 1\\end{matrix}\\right]$"
      ],
      "text/plain": [
       "⎡-1  -1  1 ⎤\n",
       "⎢          ⎥\n",
       "⎢1   0   -1⎥\n",
       "⎢          ⎥\n",
       "⎣0   1   1 ⎦"
      ]
     },
     "execution_count": 8,
     "metadata": {},
     "output_type": "execute_result"
    }
   ],
   "source": [
    "P"
   ]
  },
  {
   "cell_type": "code",
   "execution_count": null,
   "metadata": {},
   "outputs": [
    {
     "data": {
      "text/latex": [
       "$\\displaystyle \\left[\\begin{matrix}-2 & 0 & 0\\\\0 & -2 & 0\\\\0 & 0 & 1\\end{matrix}\\right]$"
      ],
      "text/plain": [
       "⎡-2  0   0⎤\n",
       "⎢         ⎥\n",
       "⎢0   -2  0⎥\n",
       "⎢         ⎥\n",
       "⎣0   0   1⎦"
      ]
     },
     "execution_count": 9,
     "metadata": {},
     "output_type": "execute_result"
    }
   ],
   "source": [
    "D"
   ]
  },
  {
   "cell_type": "markdown",
   "metadata": {},
   "source": [
    "We obtain the same results as previous separate steps."
   ]
  },
  {
   "cell_type": "markdown",
   "metadata": {},
   "source": [
    "Sometimes we just want to test if a matrix is diagonalizable, then use ```is_diagonalizable``` in SymPy."
   ]
  },
  {
   "cell_type": "code",
   "execution_count": 26,
   "metadata": {},
   "outputs": [
    {
     "data": {
      "text/plain": [
       "True"
      ]
     },
     "execution_count": 26,
     "metadata": {},
     "output_type": "execute_result"
    }
   ],
   "source": [
    "A.is_diagonalizable()"
   ]
  },
  {
   "cell_type": "markdown",
   "metadata": {},
   "source": [
    "If $A$ is symmetric, all of its eigenvectors are orthogonal. "
   ]
  },
  {
   "cell_type": "markdown",
   "metadata": {},
   "source": [
    "$$\n",
    "Av_1 = \\lambda_1v_1 \\quad \\text{and} \\quad Av_2 = \\lambda_2v_2\n",
    "$$"
   ]
  },
  {
   "cell_type": "markdown",
   "metadata": {},
   "source": [
    "$$\n",
    "v_2 \\cdot Av_1 = \\lambda_1v_1 \\cdot v_2\\\\\n",
    "v_1 \\cdot Av_2 = \\lambda_2v_2 \\cdot v_1\n",
    "$$"
   ]
  },
  {
   "cell_type": "markdown",
   "metadata": {},
   "source": [
    "$$\n",
    "v_1 \\cdot Av_2 = v_1 \\cdot A^Tv_2 = v_1 \\cdot \\lambda_2v_2 = \\lambda_2v_1 \\cdot v_2\\\\\n",
    "v_2 \\cdot Av_1 = v_2 \\cdot A^Tv_1 = v_2 \\cdot \\lambda_1v_1 = \\lambda_1v_2 \\cdot v_1\n",
    "$$"
   ]
  },
  {
   "cell_type": "markdown",
   "metadata": {},
   "source": [
    "#  <font face=\"gotham\" color=\"purple\"> How Diagonalization Simplifies the Solution Process </font>\n",
    "Original System:\n",
    "The original system of differential equations is coupled, meaning that each ed involves multiple variables. For example:\n",
    "$$\n",
    "\\frac{d \\mathbf{x}}{d t}=A \\mathbf{x}\n",
    "$$\n",
    "where $A$ is a matrix, and $\\mathbf{x}$ is a vector of variables.\n",
    "\n",
    "By finding the eigenvalues and eigenvectors of the matrix $A$, we can decomp into $P D P^{-1}$, where $D$ is a diagonal matrix of eigenvalues and $P$ is the matri eigenvectors:\n",
    "$$\n",
    "A=P D P^{-1}\n",
    "$$\n",
    " We introduce a change of variables using the eigenvector matrix $P$ :\n",
    "$$\n",
    "\\mathbf{x}=P \\mathbf{y}\n",
    "$$\n",
    "\n",
    "Substituting this into the original differential equation gives:\n",
    "\n",
    "$$\n",
    "\\frac{d(P \\mathbf{y})}{d t}=A(P \\mathbf{y})\n",
    "$$\n",
    "\n",
    "Simplifying, we get:\n",
    "$$\n",
    "P \\frac{d \\mathbf{y}}{d t}=P D P^{-1}(P \\mathbf{y})\n",
    "$$\n",
    "\n",
    "Since $P^{-1} P=I$ :\n",
    "$$\n",
    "P \\frac{d \\mathbf{y}}{d t}=P D \\mathbf{y}\n",
    "$$\n",
    "\n",
    "Multiplying both sides by $P^{-1}$ :\n",
    "$$\n",
    "\\frac{d \\mathbf{y}}{d t}=D \\mathbf{y}\n",
    "$$\n",
    "The transformed system $\\frac{d \\mathbf{y}}{d t}=D \\mathbf{y}$ is now decoupled because $D$ is a diagonal matrix. This means that each differential equation in the system involves only a single variable $y_i$ and can be solved independently:\n",
    "\n",
    "$$\n",
    "\\frac{d y_i}{d t}=\\lambda_i y_i\n",
    "$$\n",
    "where $\\lambda_i$ are the eigenvalues of $A$.\n",
    " Solving the Decoupled System:\n",
    " The decoupled differential equations are simple first-order linear differential equations, which have straightforward solutions:\n",
    "$$\n",
    "y_i(t)=c_i e^{\\lambda_i t}\n",
    "$$\n",
    "where $c_i$ are constants determined by the initial conditions.\n",
    " Finally, we transform the solution back to the original variables using the eigenvector matrix $P$ :\n",
    "$$\n",
    "\\mathbf{x}=P \\mathbf{y}\n",
    "$$\n",
    "\n",
    "This gives us the solution to the original system."
   ]
  },
  {
   "cell_type": "code",
   "execution_count": null,
   "metadata": {},
   "outputs": [],
   "source": []
  }
 ],
 "metadata": {
  "kernelspec": {
   "display_name": "Python 3 (ipykernel)",
   "language": "python",
   "name": "python3"
  },
  "language_info": {
   "codemirror_mode": {
    "name": "ipython",
    "version": 3
   },
   "file_extension": ".py",
   "mimetype": "text/x-python",
   "name": "python",
   "nbconvert_exporter": "python",
   "pygments_lexer": "ipython3",
   "version": "3.12.4"
  },
  "toc": {
   "base_numbering": 1,
   "nav_menu": {},
   "number_sections": true,
   "sideBar": true,
   "skip_h1_title": false,
   "title_cell": "Table of Contents",
   "title_sidebar": "Contents",
   "toc_cell": false,
   "toc_position": {},
   "toc_section_display": true,
   "toc_window_display": false
  }
 },
 "nbformat": 4,
 "nbformat_minor": 4
}
